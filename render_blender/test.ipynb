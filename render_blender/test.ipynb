{
 "cells": [
  {
   "cell_type": "code",
   "execution_count": 1,
   "id": "c7108aaf-56e4-44b1-b23f-18a52b7e3750",
   "metadata": {
    "tags": []
   },
   "outputs": [],
   "source": [
    "import numpy as np\n",
    "import matplotlib.pyplot as plt\n",
    "\n",
    "import os\n",
    "import glob\n",
    "\n",
    "from render_blender_main import test_render, append_path_to_model"
   ]
  },
  {
   "cell_type": "code",
   "execution_count": 2,
   "id": "1b430db9-2bc0-496d-b351-b9cdbffc99f0",
   "metadata": {
    "scrolled": true,
    "tags": []
   },
   "outputs": [
    {
     "name": "stdout",
     "output_type": "stream",
     "text": [
      "WARN (bgl): source/blender/python/generic/bgl.c:2654 BPyInit_bgl: 'bgl' imported without an OpenGL backend. Please update your add-ons to use the 'gpu' module. In Blender 4.0 'bgl' will be removed.\n",
      "(  0.0001 sec |   0.0001 sec) Importing OBJ '../data/bunny.obj'...\n",
      "  (  0.0005 sec |   0.0004 sec) Parsing OBJ file...\n",
      "    (  0.0545 sec |   0.0541 sec) Done, loading materials and images...\n",
      "    (  0.0556 sec |   0.0551 sec) Done, building geometries (verts:2503 faces:4968 materials: 1 smoothgroups:0) ...\n",
      "    (  0.0916 sec |   0.0911 sec) Done.\n",
      "  (  0.0917 sec |   0.0916 sec) Finished importing: '../data/bunny.obj'\n",
      "Progress: 100.00%\n",
      "\n"
     ]
    },
    {
     "name": "stderr",
     "output_type": "stream",
     "text": [
      "EGL Error (0x3001): EGL_NOT_INITIALIZED: EGL is not initialized, or could not be initialized, for the specified EGL display connection.\n",
      "\n",
      "Managed to successfully fallback to surfaceless EGL rendering!\n",
      "\n",
      "EGL Error (0x3009): EGL_BAD_MATCH: Arguments are inconsistent (for example, a valid context requires buffers not supplied by a valid surface).\n",
      "EGL Error (0x3001): EGL_NOT_INITIALIZED: EGL is not initialized, or could not be initialized, for the specified EGL display connection.\n",
      "\n",
      "Managed to successfully fallback to surfaceless EGL rendering!\n",
      "\n"
     ]
    },
    {
     "name": "stdout",
     "output_type": "stream",
     "text": [
      "Fra:1 Mem:14.69M (Peak 15.78M) | Time:00:00.29 | Syncing Light\n",
      "Fra:1 Mem:14.69M (Peak 15.78M) | Time:00:00.29 | Syncing Camera\n",
      "Fra:1 Mem:14.69M (Peak 15.78M) | Time:00:00.29 | Syncing RotCenter\n",
      "Fra:1 Mem:14.69M (Peak 15.78M) | Time:00:00.29 | Syncing New Light\n",
      "Fra:1 Mem:14.70M (Peak 15.78M) | Time:00:00.29 | Syncing bunny\n",
      "Fra:1 Mem:15.15M (Peak 15.78M) | Time:00:00.34 | Rendering 1 / 64 samples\n",
      "Fra:1 Mem:14.81M (Peak 15.78M) | Time:00:02.30 | Rendering 26 / 64 samples\n",
      "Fra:1 Mem:14.81M (Peak 15.78M) | Time:00:03.22 | Rendering 51 / 64 samples\n",
      "Fra:1 Mem:14.81M (Peak 15.78M) | Time:00:03.72 | Rendering 64 / 64 samples\n",
      "Fra:1 Mem:14.03M (Peak 16.06M) | Time:00:03.76 | Compositing\n",
      "Fra:1 Mem:14.03M (Peak 16.06M) | Time:00:03.76 | Compositing | Determining resolution\n",
      "Fra:1 Mem:14.03M (Peak 16.06M) | Time:00:03.76 | Compositing | Initializing execution\n",
      "Fra:1 Mem:14.34M (Peak 16.06M) | Time:00:03.76 | Compositing | Tile 1-1\n",
      "Fra:1 Mem:14.28M (Peak 16.06M) | Time:00:03.76 | Compositing | De-initializing execution\n",
      "Saved: ./bunny_views/rendering/00_depth_0001.exr\n",
      "Saved: './bunny_views/rendering/00.png'\n",
      " Time: 00:04.09 (Saving: 00:00.32)\n",
      "\n",
      "Fra:1 Mem:14.80M (Peak 14.80M) | Time:00:00.01 | Syncing Light\n",
      "Fra:1 Mem:14.80M (Peak 14.80M) | Time:00:00.01 | Syncing Camera\n",
      "Fra:1 Mem:14.80M (Peak 14.80M) | Time:00:00.01 | Syncing RotCenter\n",
      "Fra:1 Mem:14.80M (Peak 14.80M) | Time:00:00.01 | Syncing New Light\n",
      "Fra:1 Mem:14.80M (Peak 14.80M) | Time:00:00.01 | Syncing bunny\n",
      "Fra:1 Mem:15.15M (Peak 15.15M) | Time:00:00.01 | Rendering 1 / 64 samples\n",
      "Fra:1 Mem:14.81M (Peak 15.15M) | Time:00:01.87 | Rendering 26 / 64 samples\n",
      "Fra:1 Mem:14.81M (Peak 15.15M) | Time:00:02.94 | Rendering 51 / 64 samples\n",
      "Fra:1 Mem:14.81M (Peak 15.15M) | Time:00:03.51 | Rendering 64 / 64 samples\n",
      "Fra:1 Mem:14.03M (Peak 16.06M) | Time:00:03.55 | Compositing\n",
      "Fra:1 Mem:14.03M (Peak 16.06M) | Time:00:03.55 | Compositing | Determining resolution\n",
      "Fra:1 Mem:14.03M (Peak 16.06M) | Time:00:03.55 | Compositing | Initializing execution\n",
      "Fra:1 Mem:14.34M (Peak 16.06M) | Time:00:03.55 | Compositing | Tile 1-1\n",
      "Fra:1 Mem:14.28M (Peak 16.06M) | Time:00:03.56 | Compositing | De-initializing execution\n",
      "Saved: ./bunny_views/rendering/01_depth_0001.exr\n",
      "Saved: './bunny_views/rendering/01.png'\n",
      " Time: 00:03.57 (Saving: 00:00.01)\n",
      "\n",
      "Fra:1 Mem:14.80M (Peak 14.80M) | Time:00:00.01 | Syncing Light\n",
      "Fra:1 Mem:14.80M (Peak 14.80M) | Time:00:00.01 | Syncing Camera\n",
      "Fra:1 Mem:14.80M (Peak 14.80M) | Time:00:00.01 | Syncing RotCenter\n",
      "Fra:1 Mem:14.80M (Peak 14.80M) | Time:00:00.01 | Syncing New Light\n",
      "Fra:1 Mem:14.80M (Peak 14.80M) | Time:00:00.01 | Syncing bunny\n",
      "Fra:1 Mem:15.15M (Peak 15.15M) | Time:00:00.01 | Rendering 1 / 64 samples\n",
      "Fra:1 Mem:14.81M (Peak 15.15M) | Time:00:01.76 | Rendering 26 / 64 samples\n",
      "Fra:1 Mem:14.81M (Peak 15.15M) | Time:00:02.70 | Rendering 51 / 64 samples\n",
      "Fra:1 Mem:14.81M (Peak 15.15M) | Time:00:03.23 | Rendering 64 / 64 samples\n",
      "Fra:1 Mem:14.03M (Peak 16.06M) | Time:00:03.27 | Compositing\n",
      "Fra:1 Mem:14.03M (Peak 16.06M) | Time:00:03.27 | Compositing | Determining resolution\n",
      "Fra:1 Mem:14.03M (Peak 16.06M) | Time:00:03.27 | Compositing | Initializing execution\n",
      "Fra:1 Mem:14.34M (Peak 16.06M) | Time:00:03.28 | Compositing | Tile 1-1\n",
      "Fra:1 Mem:14.28M (Peak 16.06M) | Time:00:03.28 | Compositing | De-initializing execution\n",
      "Saved: ./bunny_views/rendering/02_depth_0001.exr\n",
      "Saved: './bunny_views/rendering/02.png'\n",
      " Time: 00:03.29 (Saving: 00:00.01)\n",
      "\n",
      "Fra:1 Mem:14.80M (Peak 14.80M) | Time:00:00.01 | Syncing Light\n",
      "Fra:1 Mem:14.80M (Peak 14.80M) | Time:00:00.01 | Syncing Camera\n",
      "Fra:1 Mem:14.80M (Peak 14.80M) | Time:00:00.01 | Syncing RotCenter\n",
      "Fra:1 Mem:14.80M (Peak 14.80M) | Time:00:00.01 | Syncing New Light\n",
      "Fra:1 Mem:14.80M (Peak 14.80M) | Time:00:00.01 | Syncing bunny\n",
      "Fra:1 Mem:15.15M (Peak 15.15M) | Time:00:00.01 | Rendering 1 / 64 samples\n",
      "Fra:1 Mem:14.81M (Peak 15.15M) | Time:00:01.69 | Rendering 26 / 64 samples\n",
      "Fra:1 Mem:14.81M (Peak 15.15M) | Time:00:02.60 | Rendering 51 / 64 samples\n",
      "Fra:1 Mem:14.81M (Peak 15.15M) | Time:00:03.08 | Rendering 64 / 64 samples\n",
      "Fra:1 Mem:14.03M (Peak 16.06M) | Time:00:03.12 | Compositing\n",
      "Fra:1 Mem:14.03M (Peak 16.06M) | Time:00:03.12 | Compositing | Determining resolution\n",
      "Fra:1 Mem:14.03M (Peak 16.06M) | Time:00:03.12 | Compositing | Initializing execution\n",
      "Fra:1 Mem:14.34M (Peak 16.06M) | Time:00:03.12 | Compositing | Tile 1-1\n",
      "Fra:1 Mem:14.28M (Peak 16.06M) | Time:00:03.12 | Compositing | De-initializing execution\n",
      "Saved: ./bunny_views/rendering/03_depth_0001.exr\n",
      "Saved: './bunny_views/rendering/03.png'\n",
      " Time: 00:03.14 (Saving: 00:00.01)\n",
      "\n",
      "Fra:1 Mem:14.80M (Peak 14.80M) | Time:00:00.01 | Syncing Light\n",
      "Fra:1 Mem:14.80M (Peak 14.80M) | Time:00:00.01 | Syncing Camera\n",
      "Fra:1 Mem:14.80M (Peak 14.80M) | Time:00:00.01 | Syncing RotCenter\n",
      "Fra:1 Mem:14.80M (Peak 14.80M) | Time:00:00.01 | Syncing New Light\n",
      "Fra:1 Mem:14.80M (Peak 14.80M) | Time:00:00.01 | Syncing bunny\n",
      "Fra:1 Mem:15.15M (Peak 15.15M) | Time:00:00.01 | Rendering 1 / 64 samples\n",
      "Fra:1 Mem:14.81M (Peak 15.15M) | Time:00:01.84 | Rendering 26 / 64 samples\n",
      "Fra:1 Mem:14.81M (Peak 15.15M) | Time:00:02.90 | Rendering 51 / 64 samples\n",
      "Fra:1 Mem:14.81M (Peak 15.15M) | Time:00:03.43 | Rendering 64 / 64 samples\n",
      "Fra:1 Mem:14.03M (Peak 16.06M) | Time:00:03.48 | Compositing\n",
      "Fra:1 Mem:14.03M (Peak 16.06M) | Time:00:03.48 | Compositing | Determining resolution\n",
      "Fra:1 Mem:14.03M (Peak 16.06M) | Time:00:03.48 | Compositing | Initializing execution\n",
      "Fra:1 Mem:14.34M (Peak 16.06M) | Time:00:03.48 | Compositing | Tile 1-1\n",
      "Fra:1 Mem:14.28M (Peak 16.06M) | Time:00:03.48 | Compositing | De-initializing execution\n",
      "Saved: ./bunny_views/rendering/04_depth_0001.exr\n",
      "Saved: './bunny_views/rendering/04.png'\n",
      " Time: 00:03.50 (Saving: 00:00.01)\n",
      "\n",
      "Fra:1 Mem:14.80M (Peak 14.80M) | Time:00:00.01 | Syncing Light\n",
      "Fra:1 Mem:14.80M (Peak 14.80M) | Time:00:00.01 | Syncing Camera\n",
      "Fra:1 Mem:14.80M (Peak 14.80M) | Time:00:00.01 | Syncing RotCenter\n",
      "Fra:1 Mem:14.80M (Peak 14.80M) | Time:00:00.01 | Syncing New Light\n",
      "Fra:1 Mem:14.80M (Peak 14.80M) | Time:00:00.01 | Syncing bunny\n",
      "Fra:1 Mem:15.15M (Peak 15.15M) | Time:00:00.01 | Rendering 1 / 64 samples\n",
      "Fra:1 Mem:14.81M (Peak 15.15M) | Time:00:01.66 | Rendering 26 / 64 samples\n",
      "Fra:1 Mem:14.81M (Peak 15.15M) | Time:00:02.51 | Rendering 51 / 64 samples\n",
      "Fra:1 Mem:14.81M (Peak 15.15M) | Time:00:02.96 | Rendering 64 / 64 samples\n",
      "Fra:1 Mem:14.03M (Peak 16.06M) | Time:00:03.00 | Compositing\n",
      "Fra:1 Mem:14.03M (Peak 16.06M) | Time:00:03.00 | Compositing | Determining resolution\n",
      "Fra:1 Mem:14.03M (Peak 16.06M) | Time:00:03.00 | Compositing | Initializing execution\n",
      "Fra:1 Mem:14.34M (Peak 16.06M) | Time:00:03.00 | Compositing | Tile 1-1\n",
      "Fra:1 Mem:14.28M (Peak 16.06M) | Time:00:03.00 | Compositing | De-initializing execution\n",
      "Saved: ./bunny_views/rendering/05_depth_0001.exr\n",
      "Saved: './bunny_views/rendering/05.png'\n",
      " Time: 00:03.02 (Saving: 00:00.01)\n",
      "\n",
      "Time passed: 20.77749729156494\n"
     ]
    }
   ],
   "source": [
    "test_render(\n",
    "    save_dir='./bunny_views', \n",
    "    file_path='../data/bunny.obj', \n",
    "    category='', curr_model_id='', \n",
    "    width=256, height=256, num_rendering=6, max_camera_dist=1.75, \n",
    "    object_scale=2.3, generate_depth=True,\n",
    ")"
   ]
  },
  {
   "cell_type": "code",
   "execution_count": 3,
   "id": "6deaa329-9b41-46ee-b959-3ea97bf0237c",
   "metadata": {
    "tags": []
   },
   "outputs": [],
   "source": [
    "import matplotlib.pyplot as plt\n",
    "import numpy as np\n",
    "from PIL import Image\n",
    "import minexr"
   ]
  },
  {
   "cell_type": "code",
   "execution_count": 4,
   "id": "1b17ec55-500f-419a-8cbf-a6909bbb7b74",
   "metadata": {
    "tags": []
   },
   "outputs": [
    {
     "data": {
      "text/plain": [
       "<matplotlib.image.AxesImage at 0x7f04d4339c60>"
      ]
     },
     "execution_count": 4,
     "metadata": {},
     "output_type": "execute_result"
    },
    {
     "data": {
      "image/png": "[encoded data removed]",
      "text/plain": [
       "<Figure size 1200x1200 with 2 Axes>"
      ]
     },
     "metadata": {},
     "output_type": "display_data"
    }
   ],
   "source": [
    "img = Image.open('./bunny_views/rendering/00.png')\n",
    "\n",
    "with open('./bunny_views/rendering/00_depth_0001.exr', 'rb') as fp:\n",
    "        reader = minexr.load(fp)\n",
    "        depth_np = reader.select(['R'])\n",
    "\n",
    "fig = plt.figure(figsize=(12,12))\n",
    "        \n",
    "plt.subplot(131)\n",
    "plt.imshow(img)\n",
    "\n",
    "plt.subplot(132)\n",
    "plt.imshow(depth_np)"
   ]
  },
  {
   "cell_type": "code",
   "execution_count": 5,
   "id": "b8f4a342-ba92-4e34-a43c-90b418d8dd83",
   "metadata": {
    "tags": []
   },
   "outputs": [
    {
     "data": {
      "text/plain": [
       "((256, 256, 1), <matplotlib.image.AxesImage at 0x7f04d43af010>)"
      ]
     },
     "execution_count": 5,
     "metadata": {},
     "output_type": "execute_result"
    },
    {
     "data": {
      "image/png": "[encoded data removed]",
      "text/plain": [
       "<Figure size 640x480 with 1 Axes>"
      ]
     },
     "metadata": {},
     "output_type": "display_data"
    }
   ],
   "source": [
    "# Invert values on depth image\n",
    "mask_background = depth_np > 1_000\n",
    "arr = depth_np.copy()\n",
    "arr[mask_background] = 0\n",
    "arr.shape, plt.imshow(arr ** 5, cmap='hot', interpolation='nearest')"
   ]
  },
  {
   "cell_type": "code",
   "execution_count": null,
   "id": "d71d271d-9db9-4b47-973a-bd50edd9043b",
   "metadata": {},
   "outputs": [],
   "source": []
  },
  {
   "cell_type": "code",
   "execution_count": null,
   "id": "c5a25683-65c4-4779-a1a8-882e5bc63b23",
   "metadata": {},
   "outputs": [],
   "source": []
  },
  {
   "cell_type": "code",
   "execution_count": null,
   "id": "af15c962-8422-48fd-881f-2d0b555e90b5",
   "metadata": {},
   "outputs": [],
   "source": []
  }
 ],
 "metadata": {
  "kernelspec": {
   "display_name": "Python 3 (ipykernel)",
   "language": "python",
   "name": "python3"
  },
  "language_info": {
   "codemirror_mode": {
    "name": "ipython",
    "version": 3
   },
   "file_extension": ".py",
   "mimetype": "text/x-python",
   "name": "python",
   "nbconvert_exporter": "python",
   "pygments_lexer": "ipython3",
   "version": "3.10.2"
  }
 },
 "nbformat": 4,
 "nbformat_minor": 5
}
