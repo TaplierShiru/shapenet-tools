{
 "cells": [
  {
   "cell_type": "code",
   "execution_count": 1,
   "id": "c7108aaf-56e4-44b1-b23f-18a52b7e3750",
   "metadata": {
    "tags": []
   },
   "outputs": [],
   "source": [
    "import numpy as np\n",
    "import matplotlib.pyplot as plt\n",
    "\n",
    "import os\n",
    "import glob\n",
    "\n",
    "from render_blender_main import test_render, append_path_to_model"
   ]
  },
  {
   "cell_type": "code",
   "execution_count": 2,
   "id": "1b430db9-2bc0-496d-b351-b9cdbffc99f0",
   "metadata": {
    "scrolled": true,
    "tags": []
   },
   "outputs": [
    {
     "name": "stdout",
     "output_type": "stream",
     "text": [
      "WARN (bgl): source/blender/python/generic/bgl.c:2654 BPyInit_bgl: 'bgl' imported without an OpenGL backend. Please update your add-ons to use the 'gpu' module. In Blender 4.0 'bgl' will be removed.\n",
      "OBJ import of 'bunny.obj' took 3.7 ms\n"
     ]
    },
    {
     "name": "stderr",
     "output_type": "stream",
     "text": [
      "EGL Error (0x3001): EGL_NOT_INITIALIZED: EGL is not initialized, or could not be initialized, for the specified EGL display connection.\n",
      "\n",
      "Managed to successfully fallback to surfaceless EGL rendering!\n",
      "\n",
      "EGL Error (0x3009): EGL_BAD_MATCH: Arguments are inconsistent (for example, a valid context requires buffers not supplied by a valid surface).\n",
      "EGL Error (0x3001): EGL_NOT_INITIALIZED: EGL is not initialized, or could not be initialized, for the specified EGL display connection.\n",
      "\n",
      "Managed to successfully fallback to surfaceless EGL rendering!\n",
      "\n"
     ]
    },
    {
     "name": "stdout",
     "output_type": "stream",
     "text": [
      "Fra:1 Mem:14.36M (Peak 15.45M) | Time:00:00.31 | Syncing Light\n",
      "Fra:1 Mem:14.36M (Peak 15.45M) | Time:00:00.31 | Syncing Camera\n",
      "Fra:1 Mem:14.36M (Peak 15.45M) | Time:00:00.31 | Syncing RotCenter\n",
      "Fra:1 Mem:14.36M (Peak 15.45M) | Time:00:00.31 | Syncing New Light\n",
      "Fra:1 Mem:14.37M (Peak 15.45M) | Time:00:00.31 | Syncing bunny\n",
      "Fra:1 Mem:14.82M (Peak 15.45M) | Time:00:00.35 | Rendering 1 / 64 samples\n",
      "Fra:1 Mem:14.48M (Peak 15.45M) | Time:00:02.23 | Rendering 26 / 64 samples\n",
      "Fra:1 Mem:14.48M (Peak 15.45M) | Time:00:03.11 | Rendering 51 / 64 samples\n",
      "Fra:1 Mem:14.48M (Peak 15.45M) | Time:00:03.55 | Rendering 64 / 64 samples\n",
      "Fra:1 Mem:13.70M (Peak 15.73M) | Time:00:03.58 | Compositing\n",
      "Fra:1 Mem:13.70M (Peak 15.73M) | Time:00:03.58 | Compositing | Determining resolution\n",
      "Fra:1 Mem:13.70M (Peak 15.73M) | Time:00:03.58 | Compositing | Initializing execution\n",
      "Fra:1 Mem:14.01M (Peak 15.73M) | Time:00:03.59 | Compositing | Tile 1-1\n",
      "Fra:1 Mem:13.95M (Peak 15.73M) | Time:00:03.59 | Compositing | De-initializing execution\n",
      "Saved: ./bunny_views/rendering/00_depth_0001.exr\n",
      "Saved: './bunny_views/rendering/00.png'\n",
      " Time: 00:03.91 (Saving: 00:00.32)\n",
      "\n",
      "Fra:1 Mem:14.47M (Peak 14.47M) | Time:00:00.01 | Syncing Light\n",
      "Fra:1 Mem:14.47M (Peak 14.47M) | Time:00:00.01 | Syncing Camera\n",
      "Fra:1 Mem:14.47M (Peak 14.47M) | Time:00:00.01 | Syncing RotCenter\n",
      "Fra:1 Mem:14.47M (Peak 14.47M) | Time:00:00.01 | Syncing New Light\n",
      "Fra:1 Mem:14.48M (Peak 14.48M) | Time:00:00.01 | Syncing bunny\n",
      "Fra:1 Mem:14.82M (Peak 14.82M) | Time:00:00.01 | Rendering 1 / 64 samples\n",
      "Fra:1 Mem:14.48M (Peak 14.82M) | Time:00:01.81 | Rendering 26 / 64 samples\n",
      "Fra:1 Mem:14.48M (Peak 14.82M) | Time:00:02.88 | Rendering 51 / 64 samples\n",
      "Fra:1 Mem:14.48M (Peak 14.82M) | Time:00:03.45 | Rendering 64 / 64 samples\n",
      "Fra:1 Mem:13.70M (Peak 15.73M) | Time:00:03.50 | Compositing\n",
      "Fra:1 Mem:13.70M (Peak 15.73M) | Time:00:03.50 | Compositing | Determining resolution\n",
      "Fra:1 Mem:13.70M (Peak 15.73M) | Time:00:03.50 | Compositing | Initializing execution\n",
      "Fra:1 Mem:14.01M (Peak 15.73M) | Time:00:03.50 | Compositing | Tile 1-1\n",
      "Fra:1 Mem:13.95M (Peak 15.73M) | Time:00:03.50 | Compositing | De-initializing execution\n",
      "Saved: ./bunny_views/rendering/01_depth_0001.exr\n",
      "Saved: './bunny_views/rendering/01.png'\n",
      " Time: 00:03.52 (Saving: 00:00.01)\n",
      "\n",
      "Fra:1 Mem:14.47M (Peak 14.47M) | Time:00:00.01 | Syncing Light\n",
      "Fra:1 Mem:14.47M (Peak 14.47M) | Time:00:00.01 | Syncing Camera\n",
      "Fra:1 Mem:14.47M (Peak 14.47M) | Time:00:00.01 | Syncing RotCenter\n",
      "Fra:1 Mem:14.47M (Peak 14.47M) | Time:00:00.01 | Syncing New Light\n",
      "Fra:1 Mem:14.48M (Peak 14.48M) | Time:00:00.01 | Syncing bunny\n",
      "Fra:1 Mem:14.82M (Peak 14.82M) | Time:00:00.01 | Rendering 1 / 64 samples\n",
      "Fra:1 Mem:14.48M (Peak 14.82M) | Time:00:01.79 | Rendering 26 / 64 samples\n",
      "Fra:1 Mem:14.48M (Peak 14.82M) | Time:00:02.71 | Rendering 51 / 64 samples\n",
      "Fra:1 Mem:14.48M (Peak 14.82M) | Time:00:03.19 | Rendering 64 / 64 samples\n",
      "Fra:1 Mem:13.70M (Peak 15.73M) | Time:00:03.23 | Compositing\n",
      "Fra:1 Mem:13.70M (Peak 15.73M) | Time:00:03.23 | Compositing | Determining resolution\n",
      "Fra:1 Mem:13.70M (Peak 15.73M) | Time:00:03.23 | Compositing | Initializing execution\n",
      "Fra:1 Mem:14.01M (Peak 15.73M) | Time:00:03.24 | Compositing | Tile 1-1\n",
      "Fra:1 Mem:13.95M (Peak 15.73M) | Time:00:03.24 | Compositing | De-initializing execution\n",
      "Saved: ./bunny_views/rendering/02_depth_0001.exr\n",
      "Saved: './bunny_views/rendering/02.png'\n",
      " Time: 00:03.25 (Saving: 00:00.01)\n",
      "\n",
      "Fra:1 Mem:14.47M (Peak 14.47M) | Time:00:00.01 | Syncing Light\n",
      "Fra:1 Mem:14.47M (Peak 14.47M) | Time:00:00.01 | Syncing Camera\n",
      "Fra:1 Mem:14.47M (Peak 14.47M) | Time:00:00.01 | Syncing RotCenter\n",
      "Fra:1 Mem:14.47M (Peak 14.47M) | Time:00:00.01 | Syncing New Light\n",
      "Fra:1 Mem:14.48M (Peak 14.48M) | Time:00:00.01 | Syncing bunny\n",
      "Fra:1 Mem:14.82M (Peak 14.82M) | Time:00:00.01 | Rendering 1 / 64 samples\n",
      "Fra:1 Mem:14.48M (Peak 14.82M) | Time:00:01.91 | Rendering 26 / 64 samples\n",
      "Fra:1 Mem:14.48M (Peak 14.82M) | Time:00:02.99 | Rendering 51 / 64 samples\n",
      "Fra:1 Mem:14.48M (Peak 14.82M) | Time:00:03.56 | Rendering 64 / 64 samples\n",
      "Fra:1 Mem:13.70M (Peak 15.73M) | Time:00:03.60 | Compositing\n",
      "Fra:1 Mem:13.70M (Peak 15.73M) | Time:00:03.60 | Compositing | Determining resolution\n",
      "Fra:1 Mem:13.70M (Peak 15.73M) | Time:00:03.60 | Compositing | Initializing execution\n",
      "Fra:1 Mem:14.01M (Peak 15.73M) | Time:00:03.60 | Compositing | Tile 1-1\n",
      "Fra:1 Mem:13.95M (Peak 15.73M) | Time:00:03.60 | Compositing | De-initializing execution\n",
      "Saved: ./bunny_views/rendering/03_depth_0001.exr\n",
      "Saved: './bunny_views/rendering/03.png'\n",
      " Time: 00:03.62 (Saving: 00:00.01)\n",
      "\n",
      "Fra:1 Mem:14.47M (Peak 14.47M) | Time:00:00.01 | Syncing Light\n",
      "Fra:1 Mem:14.47M (Peak 14.47M) | Time:00:00.01 | Syncing Camera\n",
      "Fra:1 Mem:14.47M (Peak 14.47M) | Time:00:00.01 | Syncing RotCenter\n",
      "Fra:1 Mem:14.47M (Peak 14.47M) | Time:00:00.01 | Syncing New Light\n",
      "Fra:1 Mem:14.48M (Peak 14.48M) | Time:00:00.01 | Syncing bunny\n",
      "Fra:1 Mem:14.82M (Peak 14.82M) | Time:00:00.01 | Rendering 1 / 64 samples\n",
      "Fra:1 Mem:14.48M (Peak 14.82M) | Time:00:01.85 | Rendering 26 / 64 samples\n",
      "Fra:1 Mem:14.48M (Peak 14.82M) | Time:00:02.91 | Rendering 51 / 64 samples\n",
      "Fra:1 Mem:14.48M (Peak 14.82M) | Time:00:03.46 | Rendering 64 / 64 samples\n",
      "Fra:1 Mem:13.70M (Peak 15.73M) | Time:00:03.50 | Compositing\n",
      "Fra:1 Mem:13.70M (Peak 15.73M) | Time:00:03.50 | Compositing | Determining resolution\n",
      "Fra:1 Mem:13.70M (Peak 15.73M) | Time:00:03.50 | Compositing | Initializing execution\n",
      "Fra:1 Mem:14.01M (Peak 15.73M) | Time:00:03.51 | Compositing | Tile 1-1\n",
      "Fra:1 Mem:13.95M (Peak 15.73M) | Time:00:03.51 | Compositing | De-initializing execution\n",
      "Saved: ./bunny_views/rendering/04_depth_0001.exr\n",
      "Saved: './bunny_views/rendering/04.png'\n",
      " Time: 00:03.52 (Saving: 00:00.01)\n",
      "\n",
      "Fra:1 Mem:14.47M (Peak 14.47M) | Time:00:00.01 | Syncing Light\n",
      "Fra:1 Mem:14.47M (Peak 14.47M) | Time:00:00.01 | Syncing Camera\n",
      "Fra:1 Mem:14.47M (Peak 14.47M) | Time:00:00.01 | Syncing RotCenter\n",
      "Fra:1 Mem:14.47M (Peak 14.47M) | Time:00:00.01 | Syncing New Light\n",
      "Fra:1 Mem:14.48M (Peak 14.48M) | Time:00:00.01 | Syncing bunny\n",
      "Fra:1 Mem:14.82M (Peak 14.82M) | Time:00:00.01 | Rendering 1 / 64 samples\n",
      "Fra:1 Mem:14.48M (Peak 14.82M) | Time:00:01.80 | Rendering 26 / 64 samples\n",
      "Fra:1 Mem:14.48M (Peak 14.82M) | Time:00:02.81 | Rendering 51 / 64 samples\n",
      "Fra:1 Mem:14.48M (Peak 14.82M) | Time:00:03.35 | Rendering 64 / 64 samples\n",
      "Fra:1 Mem:13.70M (Peak 15.73M) | Time:00:03.39 | Compositing\n",
      "Fra:1 Mem:13.70M (Peak 15.73M) | Time:00:03.39 | Compositing | Determining resolution\n",
      "Fra:1 Mem:13.70M (Peak 15.73M) | Time:00:03.39 | Compositing | Initializing execution\n",
      "Fra:1 Mem:14.01M (Peak 15.73M) | Time:00:03.39 | Compositing | Tile 1-1\n",
      "Fra:1 Mem:13.95M (Peak 15.73M) | Time:00:03.39 | Compositing | De-initializing execution\n",
      "Saved: ./bunny_views/rendering/05_depth_0001.exr\n",
      "Saved: './bunny_views/rendering/05.png'\n",
      " Time: 00:03.41 (Saving: 00:00.01)\n",
      "\n",
      "Time passed: 21.320966958999634\n"
     ]
    }
   ],
   "source": [
    "test_render(\n",
    "    save_dir='./bunny_views', \n",
    "    file_path='../data/bunny.obj', \n",
    "    category='', curr_model_id='', \n",
    "    width=256, height=256, num_rendering=6, max_camera_dist=1.75, \n",
    "    object_scale=2.3, generate_depth=True,\n",
    ")"
   ]
  },
  {
   "cell_type": "code",
   "execution_count": 3,
   "id": "6deaa329-9b41-46ee-b959-3ea97bf0237c",
   "metadata": {
    "tags": []
   },
   "outputs": [],
   "source": [
    "import matplotlib.pyplot as plt\n",
    "import numpy as np\n",
    "from PIL import Image\n",
    "import minexr"
   ]
  },
  {
   "cell_type": "code",
   "execution_count": 4,
   "id": "1b17ec55-500f-419a-8cbf-a6909bbb7b74",
   "metadata": {
    "tags": []
   },
   "outputs": [
    {
     "data": {
      "text/plain": [
       "<matplotlib.image.AxesImage at 0x7fd64845ebc0>"
      ]
     },
     "execution_count": 4,
     "metadata": {},
     "output_type": "execute_result"
    },
    {
     "data": {
      "image/png": "[encoded data removed]",
      "text/plain": [
       "<Figure size 1200x1200 with 2 Axes>"
      ]
     },
     "metadata": {},
     "output_type": "display_data"
    }
   ],
   "source": [
    "img = Image.open('./bunny_views/rendering/00.png')\n",
    "\n",
    "with open('./bunny_views/rendering/00_depth_0001.exr', 'rb') as fp:\n",
    "        reader = minexr.load(fp)\n",
    "        depth_np = reader.select(['R'])\n",
    "\n",
    "fig = plt.figure(figsize=(12,12))\n",
    "        \n",
    "plt.subplot(131)\n",
    "plt.imshow(img)\n",
    "\n",
    "plt.subplot(132)\n",
    "plt.imshow(depth_np)"
   ]
  },
  {
   "cell_type": "code",
   "execution_count": 5,
   "id": "b8f4a342-ba92-4e34-a43c-90b418d8dd83",
   "metadata": {
    "tags": []
   },
   "outputs": [
    {
     "data": {
      "text/plain": [
       "((256, 256, 1), <matplotlib.image.AxesImage at 0x7fd5841d23b0>)"
      ]
     },
     "execution_count": 5,
     "metadata": {},
     "output_type": "execute_result"
    },
    {
     "data": {
      "image/png": "[encoded data removed]",
      "text/plain": [
       "<Figure size 640x480 with 1 Axes>"
      ]
     },
     "metadata": {},
     "output_type": "display_data"
    }
   ],
   "source": [
    "# Invert values on depth image\n",
    "mask_background = depth_np > 1_000\n",
    "arr = depth_np.copy()\n",
    "arr[mask_background] = 0\n",
    "arr.shape, plt.imshow(arr ** 5, cmap='hot', interpolation='nearest')"
   ]
  },
  {
   "cell_type": "code",
   "execution_count": null,
   "id": "d71d271d-9db9-4b47-973a-bd50edd9043b",
   "metadata": {},
   "outputs": [],
   "source": []
  },
  {
   "cell_type": "code",
   "execution_count": null,
   "id": "45814313-9025-417a-b8e0-36dc598bc971",
   "metadata": {},
   "outputs": [],
   "source": []
  },
  {
   "cell_type": "code",
   "execution_count": null,
   "id": "a4a433b9-fa89-4ee0-b474-d362352429af",
   "metadata": {},
   "outputs": [],
   "source": []
  }
 ],
 "metadata": {
  "kernelspec": {
   "display_name": "Python 3 (ipykernel)",
   "language": "python",
   "name": "python3"
  },
  "language_info": {
   "codemirror_mode": {
    "name": "ipython",
    "version": 3
   },
   "file_extension": ".py",
   "mimetype": "text/x-python",
   "name": "python",
   "nbconvert_exporter": "python",
   "pygments_lexer": "ipython3",
   "version": "3.10.2"
  }
 },
 "nbformat": 4,
 "nbformat_minor": 5
}
